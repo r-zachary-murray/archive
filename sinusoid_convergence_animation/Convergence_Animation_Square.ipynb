{
 "cells": [
  {
   "cell_type": "code",
   "execution_count": 10,
   "metadata": {},
   "outputs": [],
   "source": [
    "import numpy as np\n",
    "import matplotlib.pyplot as plt\n",
    "import matplotlib\n",
    "matplotlib.use('agg')\n",
    "import os"
   ]
  },
  {
   "cell_type": "code",
   "execution_count": 11,
   "metadata": {},
   "outputs": [],
   "source": [
    "def func(x,n):\n",
    "    tot=0\n",
    "    for k in range(1,n):\n",
    "        term = x/(k**2)\n",
    "        tot += term.astype(float)\n",
    "    return tot"
   ]
  },
  {
   "cell_type": "code",
   "execution_count": 12,
   "metadata": {},
   "outputs": [],
   "source": [
    "xgrid = np.linspace(0,1,10000)\n",
    "odd_ngrid = np.arange(3,1001,2)\n",
    "even_ngrid = np.arange(2,1000,2)"
   ]
  },
  {
   "cell_type": "code",
   "execution_count": 13,
   "metadata": {},
   "outputs": [],
   "source": [
    "path1 = './odd3/'\n",
    "path2 = './even3/'\n",
    "if not os.path.exists(path1):\n",
    "    os.makedirs(path1)\n",
    "if not os.path.exists(path2):\n",
    "    os.makedirs(path2)"
   ]
  },
  {
   "cell_type": "code",
   "execution_count": 14,
   "metadata": {},
   "outputs": [],
   "source": [
    "for i in range(len(odd_ngrid)):\n",
    "    n = odd_ngrid[i]\n",
    "    fig,ax = plt.subplots(figsize=(20,20))\n",
    "    plt.plot(xgrid,func(xgrid,n))\n",
    "    plt.xlabel(\"X\",fontsize=40)\n",
    "    plt.ylabel(\"Y\",fontsize=40)\n",
    "    plt.yticks(fontsize=30)\n",
    "    plt.xticks(fontsize=30)\n",
    "    plt.ylim(0,2)\n",
    "    plt.title(r'$\\sum_{k=1}^{n}  \\frac{x}{k^2} $ with n='+str(n), fontsize=50)\n",
    "    plt.savefig(path1+str(i)+'.png',dpi=100)\n",
    "    plt.close()"
   ]
  },
  {
   "cell_type": "code",
   "execution_count": 15,
   "metadata": {},
   "outputs": [],
   "source": [
    "for i in range(len(even_ngrid)):\n",
    "    n = even_ngrid[i]\n",
    "    fig,ax = plt.subplots(figsize=(20,20))\n",
    "    plt.plot(xgrid,func(xgrid,n))\n",
    "    plt.xlabel(\"X\",fontsize=40)\n",
    "    plt.ylabel(\"Y\",fontsize=40)\n",
    "    plt.yticks(fontsize=30)\n",
    "    plt.xticks(fontsize=30)\n",
    "    plt.ylim(0,2)\n",
    "    plt.title(r'$\\sum_{k=1}^{n}  \\frac{x}{k^2} $ with n='+str(n), fontsize=50)\n",
    "    plt.savefig(path2+str(i)+'.png',dpi=100)\n",
    "    plt.close()"
   ]
  },
  {
   "cell_type": "code",
   "execution_count": 16,
   "metadata": {},
   "outputs": [
    {
     "name": "stdout",
     "output_type": "stream",
     "text": [
      "Final Odd 1.6439325646785576\n",
      "Final Even 1.6439315606665255\n"
     ]
    }
   ],
   "source": [
    "print(\"Final Odd\",func(xgrid,odd_ngrid[-1])[-1])\n",
    "print(\"Final Even\",func(xgrid,even_ngrid[-1])[-1])"
   ]
  },
  {
   "cell_type": "code",
   "execution_count": 17,
   "metadata": {},
   "outputs": [],
   "source": [
    "from animate import render"
   ]
  },
  {
   "cell_type": "code",
   "execution_count": 18,
   "metadata": {},
   "outputs": [
    {
     "name": "stdout",
     "output_type": "stream",
     "text": [
      "warning... less than 15 fps!\n",
      "no cleanup type specified\n",
      "warning... less than 15 fps!\n",
      "no cleanup type specified\n"
     ]
    }
   ],
   "source": [
    "render(path1,'odd3','gif',runtime=10,cleanup_type='7z')\n",
    "render(path2,'even3','gif',runtime=10,cleanup_type='7z')"
   ]
  },
  {
   "cell_type": "code",
   "execution_count": null,
   "metadata": {},
   "outputs": [],
   "source": []
  },
  {
   "cell_type": "code",
   "execution_count": null,
   "metadata": {},
   "outputs": [],
   "source": []
  },
  {
   "cell_type": "code",
   "execution_count": null,
   "metadata": {},
   "outputs": [],
   "source": []
  }
 ],
 "metadata": {
  "kernelspec": {
   "display_name": "Python 3",
   "language": "python",
   "name": "python3"
  },
  "language_info": {
   "codemirror_mode": {
    "name": "ipython",
    "version": 3
   },
   "file_extension": ".py",
   "mimetype": "text/x-python",
   "name": "python",
   "nbconvert_exporter": "python",
   "pygments_lexer": "ipython3",
   "version": "3.6.9"
  }
 },
 "nbformat": 4,
 "nbformat_minor": 4
}
