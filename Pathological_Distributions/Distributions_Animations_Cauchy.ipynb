{
 "cells": [
  {
   "cell_type": "code",
   "execution_count": 1,
   "id": "written-scroll",
   "metadata": {},
   "outputs": [
    {
     "name": "stderr",
     "output_type": "stream",
     "text": [
      "In /home/moon/.local/lib/python3.6/site-packages/matplotlib/mpl-data/stylelib/_classic_test.mplstyle: \n",
      "The text.latex.preview rcparam was deprecated in Matplotlib 3.3 and will be removed two minor releases later.\n",
      "In /home/moon/.local/lib/python3.6/site-packages/matplotlib/mpl-data/stylelib/_classic_test.mplstyle: \n",
      "The mathtext.fallback_to_cm rcparam was deprecated in Matplotlib 3.3 and will be removed two minor releases later.\n",
      "In /home/moon/.local/lib/python3.6/site-packages/matplotlib/mpl-data/stylelib/_classic_test.mplstyle: Support for setting the 'mathtext.fallback_to_cm' rcParam is deprecated since 3.3 and will be removed two minor releases later; use 'mathtext.fallback : 'cm' instead.\n",
      "In /home/moon/.local/lib/python3.6/site-packages/matplotlib/mpl-data/stylelib/_classic_test.mplstyle: \n",
      "The validate_bool_maybe_none function was deprecated in Matplotlib 3.3 and will be removed two minor releases later.\n",
      "In /home/moon/.local/lib/python3.6/site-packages/matplotlib/mpl-data/stylelib/_classic_test.mplstyle: \n",
      "The savefig.jpeg_quality rcparam was deprecated in Matplotlib 3.3 and will be removed two minor releases later.\n",
      "In /home/moon/.local/lib/python3.6/site-packages/matplotlib/mpl-data/stylelib/_classic_test.mplstyle: \n",
      "The keymap.all_axes rcparam was deprecated in Matplotlib 3.3 and will be removed two minor releases later.\n",
      "In /home/moon/.local/lib/python3.6/site-packages/matplotlib/mpl-data/stylelib/_classic_test.mplstyle: \n",
      "The animation.avconv_path rcparam was deprecated in Matplotlib 3.3 and will be removed two minor releases later.\n",
      "In /home/moon/.local/lib/python3.6/site-packages/matplotlib/mpl-data/stylelib/_classic_test.mplstyle: \n",
      "The animation.avconv_args rcparam was deprecated in Matplotlib 3.3 and will be removed two minor releases later.\n"
     ]
    }
   ],
   "source": [
    "import numpy as np\n",
    "import matplotlib.pyplot as plt\n",
    "np.random.seed(42)\n",
    "import scipy.stats as st\n",
    "import os\n",
    "import matplotlib\n",
    "matplotlib.use('agg')\n",
    "\n",
    "import matplotlib as mpl\n",
    "label_size = 20\n",
    "mpl.rcParams['xtick.labelsize'] = label_size \n",
    "mpl.rcParams['ytick.labelsize'] = label_size "
   ]
  },
  {
   "cell_type": "code",
   "execution_count": 2,
   "id": "nervous-privacy",
   "metadata": {},
   "outputs": [],
   "source": [
    "def cumstats(draws):\n",
    "    cummeans = []\n",
    "    cumvars = []\n",
    "    for i in range(1,len(draws)):\n",
    "        cummeans.append(np.mean(draws[0:i]))\n",
    "        cumvars.append(np.var(draws[0:i]))\n",
    "\n",
    "    cummeans = np.array(cummeans)\n",
    "    cumvars = np.array(cumvars)\n",
    "    return cummeans, cumvars"
   ]
  },
  {
   "cell_type": "code",
   "execution_count": 3,
   "id": "choice-director",
   "metadata": {},
   "outputs": [],
   "source": [
    "maxval = int(1e6)"
   ]
  },
  {
   "cell_type": "code",
   "execution_count": null,
   "id": "public-biodiversity",
   "metadata": {},
   "outputs": [],
   "source": []
  },
  {
   "cell_type": "code",
   "execution_count": null,
   "id": "authentic-manhattan",
   "metadata": {},
   "outputs": [],
   "source": []
  },
  {
   "cell_type": "code",
   "execution_count": 4,
   "id": "composed-newport",
   "metadata": {},
   "outputs": [],
   "source": [
    "path = 'cauchy/'\n",
    "draws = st.cauchy.rvs(size=maxval)\n",
    "pdfx = np.linspace(-5,5,1000)\n",
    "pdfy = st.cauchy.pdf(pdfx)\n",
    "cmeans, cvars = cumstats(draws)\n",
    "if not os.path.exists(path):\n",
    "    os.makedirs(path)\n",
    "    \n",
    "sgrid =  (np.linspace(1,np.sqrt(maxval),int(np.sqrt(maxval)))**2).astype(int)\n",
    "for i in range(len(sgrid)):\n",
    "    stop = sgrid[i]\n",
    "    fig,ax = plt.subplots(ncols=3,figsize=(28,7))\n",
    "    ax[0].plot(cmeans[0:stop])\n",
    "    ax[0].axhline(0,c='r',lw=2)\n",
    "    ax[0].set_ylabel(\"Mean\",fontsize=30)\n",
    "    ax[1].plot(cvars[0:stop])\n",
    "    ax[1].axhline(1,c='r',lw=2)\n",
    "    ax[1].set_ylabel(\"Variance\",fontsize=30)\n",
    "    good_inds = np.where(np.abs(draws[0:stop])<5)\n",
    "    ax[2].hist(draws[0:stop][good_inds],density=1,bins=100)\n",
    "    ax[2].plot(pdfx,pdfy,c='r',lw=2)\n",
    "    ax[2].set_ylabel(\"Pdf\",fontsize=30)\n",
    "    ax[2].set_xlim(-5,5)\n",
    "    ax[2].set_ylim(0,0.45)\n",
    "\n",
    "\n",
    "    plt.suptitle(\"N = \"+str(stop),fontsize=20)\n",
    "    plt.savefig(path+str(i)+'.png',dpi=200,bbox_inches='tight')\n",
    "    plt.close()"
   ]
  },
  {
   "cell_type": "code",
   "execution_count": 6,
   "id": "thick-content",
   "metadata": {},
   "outputs": [
    {
     "name": "stdout",
     "output_type": "stream",
     "text": [
      "Framerate is 100.0 fps\n",
      "Total Runtime is 10 s\n",
      "no cleanup type specified\n"
     ]
    }
   ],
   "source": [
    "from animate import render\n",
    "render('./cauchy/','cauchy','gifbyavi',runtime=10,cleanup_type='7z')\n"
   ]
  },
  {
   "cell_type": "code",
   "execution_count": null,
   "id": "intellectual-punishment",
   "metadata": {},
   "outputs": [],
   "source": []
  },
  {
   "cell_type": "code",
   "execution_count": null,
   "id": "systematic-spirituality",
   "metadata": {},
   "outputs": [],
   "source": []
  },
  {
   "cell_type": "code",
   "execution_count": null,
   "id": "twenty-occupation",
   "metadata": {},
   "outputs": [],
   "source": []
  }
 ],
 "metadata": {
  "kernelspec": {
   "display_name": "Python 3",
   "language": "python",
   "name": "python3"
  },
  "language_info": {
   "codemirror_mode": {
    "name": "ipython",
    "version": 3
   },
   "file_extension": ".py",
   "mimetype": "text/x-python",
   "name": "python",
   "nbconvert_exporter": "python",
   "pygments_lexer": "ipython3",
   "version": "3.6.9"
  }
 },
 "nbformat": 4,
 "nbformat_minor": 5
}
